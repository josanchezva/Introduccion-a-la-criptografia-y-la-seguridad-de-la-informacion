{
  "cells": [
    {
      "cell_type": "code",
      "execution_count": 1,
      "metadata": {
        "colab": {
          "base_uri": "https://localhost:8080/"
        },
        "id": "7vwg1_zhVPOJ",
        "outputId": "317b7d18-6596-4f8f-8b14-f10ce4da1250"
      },
      "outputs": [
        {
          "name": "stdout",
          "output_type": "stream",
          "text": [
            "0.Encriptar 1.Desencriptar\n"
          ]
        }
      ],
      "source": [
        "#Caesar Cypher\n",
        "\n",
        "# Split se usa para convertir el mensaje de string a lista\n",
        "def split(word):\n",
        "  return [char for char in word]\n",
        "#Se usa para imprimir el mensaje final como un string desde una lista\n",
        "\n",
        "def listToString(s): \n",
        "  str1 = \"\" \n",
        "  for ele in s: \n",
        "      str1 += ele  \n",
        "  return str1 \n",
        "\n",
        "if __name__ == '__main__':\n",
        "      \n",
        "  print('0.Encriptar 1.Desencriptar')\n",
        "  choice = input()\n",
        "\n",
        "  print('Mensaje:')\n",
        "  #message = 'RETURN TO ROME'\n",
        "  #message = 'UHWXU QWRUR PH'\n",
        "\n",
        "  message = input()\n",
        "  message = message.replace(' ', '')\n",
        "  print('Parametro:')\n",
        "  k = input()\n",
        "  k=int(k)\n",
        "\n",
        "  #k = 3 \n",
        "  C = 5\n",
        "\n",
        "  alphabet = {\n",
        "    1:'A', 2:'B', 3:'C', 4:'D', 5:'E', 6:'F', 7:'G', 8:'H', 9:'I', 10:'J', 11:'K', 12:'L', 13:'M', 14:'N', 15:'O', 16:'P', 17:'Q', 18:'R', 19:'S', 20:'T', 21:'U', 22:'V', 23:'W', 24:'X', 25:'Y', 26:'Z'\n",
        "  }\n",
        "\n",
        "  alphabetKeys = list(alphabet.keys())\n",
        "  alphabetValues = list(alphabet.values())\n",
        "\n",
        "  message = split(message)\n",
        "  encriptedMessage = []\n",
        "  decodedMessage = []\n",
        "\n",
        "  if (choice=='0'):\n",
        "    for i in range(len(message)):\n",
        "      position = alphabetValues.index(message[i])\n",
        "      position = (position + k) % len(alphabetKeys)\n",
        "      \n",
        "      encriptedMessage.append(alphabetValues[position])\n",
        "      \n",
        "      if((i+1)%C==0):\n",
        "        encriptedMessage.append(' ')\n",
        "    \n",
        "    print(listToString(encriptedMessage))\n",
        "  else:\n",
        "    for i in range(len(message)):\n",
        "      position = alphabetValues.index(message[i])\n",
        "      position = (position - k) % len(alphabetKeys)\n",
        "      \n",
        "      decodedMessage.append(alphabetValues[position])\n",
        "      \n",
        "      if((i+1)%C==0):\n",
        "        decodedMessage.append(' ')\n",
        "    print(listToString(decodedMessage))\n",
        "\n"
      ]
    }
  ],
  "metadata": {
    "colab": {
      "name": "CaesarCipher.ipynb",
      "provenance": []
    },
    "kernelspec": {
      "display_name": "Python 3",
      "name": "python3"
    },
    "language_info": {
      "codemirror_mode": {
        "name": "ipython",
        "version": 3
      },
      "file_extension": ".py",
      "mimetype": "text/x-python",
      "name": "python",
      "nbconvert_exporter": "python",
      "pygments_lexer": "ipython3",
      "version": "3.9.4"
    }
  },
  "nbformat": 4,
  "nbformat_minor": 0
}
